{
 "cells": [
  {
   "cell_type": "code",
   "execution_count": 19,
   "id": "44d4217e-6320-43df-afc4-ddf8f36a4e33",
   "metadata": {
    "tags": []
   },
   "outputs": [],
   "source": [
    "import numpy as np\n",
    "import random\n",
    "import sympy as sy\n",
    "import matplotlib.pyplot as plt\n",
    "import matplotlib\n",
    "%matplotlib inline\n",
    "from datascience import *"
   ]
  },
  {
   "cell_type": "code",
   "execution_count": 2,
   "id": "d83ef34a-04dd-4f12-80aa-02c3a2755f08",
   "metadata": {
    "tags": []
   },
   "outputs": [],
   "source": [
    "#Project ease of use tools\n",
    "def easyview():\n",
    "    viewer = sy.Matrix([board.take(np.arange(i, i + int(np.sqrt(len(board))))).tolist() for i in range(0, int(len(board)), int(np.sqrt(len(board))))])\n",
    "    return viewer"
   ]
  },
  {
   "cell_type": "code",
   "execution_count": 3,
   "id": "61a3d401-b88e-4222-b47f-4c6d3da3fe8f",
   "metadata": {
    "tags": []
   },
   "outputs": [],
   "source": [
    "board = np.repeat(0,100)\n",
    "carrier = 5\n",
    "battleship = 4\n",
    "cruiser = 3\n",
    "submarine = 3\n",
    "patrol_boat = 2\n",
    "ships = [carrier,battleship,cruiser,submarine,patrol_boat]"
   ]
  },
  {
   "cell_type": "code",
   "execution_count": 4,
   "id": "3484c040-10c3-473f-b03e-8d20f6cf07c0",
   "metadata": {
    "tags": []
   },
   "outputs": [],
   "source": [
    "def horizontal(shipchoice):\n",
    "    while True:\n",
    "        choicey = random.choice(np.arange(0, 10))\n",
    "        choicex = random.choice(np.arange(1, 12 - shipchoice))\n",
    "        choice = choicex + choicey * 10\n",
    "        if all(0 <= choice + i < len(board) and board[choice + i] == 0 for i in range(shipchoice)):\n",
    "            for i in range(shipchoice):\n",
    "                board[choice + i] = 1\n",
    "            return board, choice"
   ]
  },
  {
   "cell_type": "code",
   "execution_count": 5,
   "id": "0949c775-112f-44e0-a74f-d9a30344f4d6",
   "metadata": {
    "tags": []
   },
   "outputs": [],
   "source": [
    "def vertical(shipchoice):\n",
    "    while True:\n",
    "        choicey = random.choice(np.arange(0, 11 - carrier))\n",
    "        choicex = random.choice(np.arange(0, 10))\n",
    "        choice = choicex + choicey * 10\n",
    "        if all(0 <= choice + i < len(board) and board[choice + (i*10)] == 0 for i in range(shipchoice)):\n",
    "            for i in range(shipchoice):\n",
    "                board[choice + (i-1)*10] = 1\n",
    "            return board,choice"
   ]
  },
  {
   "cell_type": "code",
   "execution_count": 6,
   "id": "f5f8b347-2834-493d-8983-9cb7769ba36b",
   "metadata": {
    "tags": []
   },
   "outputs": [],
   "source": [
    "def build_board():\n",
    "    ship_order = random.sample(ships, 5)\n",
    "    vert_hor_order = [random.choice([0, 1]) for i in range(5)]\n",
    "    for i in range(5):\n",
    "        if vert_hor_order[i] == 0:\n",
    "            horizontal(ship_order[i])\n",
    "        else:\n",
    "            vertical(ship_order[i])\n",
    "    return board"
   ]
  },
  {
   "cell_type": "code",
   "execution_count": 7,
   "id": "72ebe17c-d2ba-460c-a5a8-6c50b364a7f2",
   "metadata": {
    "tags": []
   },
   "outputs": [],
   "source": [
    "def game_logic(pick):\n",
    "    if board[pick] == 1:\n",
    "        board[pick] = 2"
   ]
  },
  {
   "cell_type": "code",
   "execution_count": 24,
   "id": "17f0141a-ca8c-44ce-94ef-4e519caaf356",
   "metadata": {
    "tags": []
   },
   "outputs": [],
   "source": [
    "#Ships Fairness Testing\n",
    "ships = [carrier,battleship,cruiser,submarine,patrol_boat]\n",
    "shipsTestingHorizontal = [[],[],[],[],[]]\n",
    "for i in range(5):\n",
    "    board = np.repeat(0,100)\n",
    "    shiptest = ships[i]\n",
    "    for j in range(10000):\n",
    "        board = np.repeat(0,100)\n",
    "        pick = horizontal(shiptest)[1]\n",
    "        shipsTestingHorizontal[i] = np.append(shipsTestingHorizontal[i], pick)\n",
    "\n",
    "shipsTestingVertical = [[],[],[],[],[]]\n",
    "for i in range(5):\n",
    "    board = np.repeat(0,100)\n",
    "    shiptest = ships[i]\n",
    "    for j in range(10000):\n",
    "        board = np.repeat(0,100)\n",
    "        pick = vertical(shiptest)[1]\n",
    "        shipsTestingVertical[i] = np.append(shipsTestingVertical[i], pick)"
   ]
  },
  {
   "cell_type": "code",
   "execution_count": 9,
   "id": "e633983a-adb5-4b67-8880-f2b770b225fe",
   "metadata": {
    "tags": []
   },
   "outputs": [],
   "source": [
    "#Distribution Tester\n",
    "distribution = np.repeat(0,100)\n",
    "board = np.repeat(0,100)\n",
    "for i in range(10000):\n",
    "    build_board()\n",
    "    for i in range(100):\n",
    "        if board[i] == 1:\n",
    "            distribution[i] += 1\n",
    "    board = np.repeat(0,100)"
   ]
  },
  {
   "cell_type": "code",
   "execution_count": 10,
   "id": "ec799b59-e9ea-4e4d-9225-b630cef655be",
   "metadata": {
    "tags": []
   },
   "outputs": [],
   "source": [
    "CallIndex = Table().with_columns(\n",
    "    'Index', np.arange(100), \n",
    "    'Num Times Called', distribution)"
   ]
  },
  {
   "cell_type": "code",
   "execution_count": 23,
   "id": "f04691e0-6728-490a-8291-1ea93866ca53",
   "metadata": {
    "tags": []
   },
   "outputs": [
    {
     "data": {
      "image/png": "[encoded data removed]",
      "text/plain": [
       "<Figure size 640x480 with 2 Axes>"
      ]
     },
     "metadata": {},
     "output_type": "display_data"
    }
   ],
   "source": [
    "#Heatmap of placements\n",
    "X, Y = np.meshgrid(np.arange(0, 10, 1), np.arange(0, 10, 1))\n",
    "distribution_New = distribution / 10000\n",
    "distribution_2D = distribution_New.reshape(X.shape)\n",
    "plt.pcolormesh(X, Y, distribution_2D, cmap=plt.cm.jet)\n",
    "plt.xticks(np.arange(0, 10), np.arange(1, 11))\n",
    "plt.yticks(np.arange(0, 10), [chr(ord('a') + i) for i in range(9, -1, -1)])  \n",
    "plt.colorbar()\n",
    "plt.title('Ship Placement')\n",
    "plt.xlabel('X')\n",
    "plt.ylabel('Y')\n",
    "plt.show()"
   ]
  },
  {
   "cell_type": "code",
   "execution_count": null,
   "id": "1fad03b5-175c-4a64-8f39-26f0bf431bc0",
   "metadata": {},
   "outputs": [],
   "source": []
  }
 ],
 "metadata": {
  "kernelspec": {
   "display_name": "Python 3 (ipykernel)",
   "language": "python",
   "name": "python3"
  },
  "language_info": {
   "codemirror_mode": {
    "name": "ipython",
    "version": 3
   },
   "file_extension": ".py",
   "mimetype": "text/x-python",
   "name": "python",
   "nbconvert_exporter": "python",
   "pygments_lexer": "ipython3",
   "version": "3.10.9"
  },
  "toc-showmarkdowntxt": false
 },
 "nbformat": 4,
 "nbformat_minor": 5
}
