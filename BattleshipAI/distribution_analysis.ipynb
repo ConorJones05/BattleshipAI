{
 "cells": [
  {
   "cell_type": "code",
   "execution_count": 50,
   "id": "44d4217e-6320-43df-afc4-ddf8f36a4e33",
   "metadata": {
    "tags": []
   },
   "outputs": [],
   "source": [
    "import numpy as np\n",
    "import random\n",
    "import sympy as sy\n",
    "import matplotlib.pyplot as plt\n",
    "%matplotlib inline\n",
    "from datascience import *\n",
    "from scipy.stats import norm"
   ]
  },
  {
   "cell_type": "code",
   "execution_count": 17,
   "id": "b2981914",
   "metadata": {},
   "outputs": [],
   "source": [
    "class BattleshipGame:\n",
    "    def __init__(self):\n",
    "        self.board = np.repeat(0, 100)\n",
    "        self.carrier = 5\n",
    "        self.battleship = 4\n",
    "        self.cruiser = 3\n",
    "        self.submarine = 3\n",
    "        self.patrol_boat = 2\n",
    "        self.ships = [self.carrier, self.battleship, self.cruiser, self.submarine, self.patrol_boat]\n",
    "\n",
    "    def horizontal(self, ship_choice):\n",
    "        while True:\n",
    "            choice_y = random.choice(np.arange(0, 10))\n",
    "            choice_x = random.choice(np.arange(1, 12 - ship_choice))\n",
    "            choice = choice_x + choice_y * 10\n",
    "            if all(0 <= choice + i < len(self.board) and self.board[choice + i] == 0 for i in range(ship_choice)):\n",
    "                for i in range(ship_choice):\n",
    "                    self.board[choice + i] = 1\n",
    "                return self.board, choice\n",
    "\n",
    "    def vertical(self, ship_choice):\n",
    "        while True:\n",
    "            choice_y = random.choice(np.arange(0, 11 - ship_choice))\n",
    "            choice_x = random.choice(np.arange(0, 10))\n",
    "            choice = choice_x + choice_y * 10\n",
    "            if all(0 <= choice + i < len(self.board) and self.board[choice + (i*10)] == 0 for i in range(ship_choice)):\n",
    "                for i in range(ship_choice):\n",
    "                    self.board[choice + (i-1)*10] = 1\n",
    "                return self.board, choice\n",
    "\n",
    "    def build_board(self):\n",
    "        ship_order = random.sample(self.ships, 5)\n",
    "        vert_hor_order = [random.choice([0, 1]) for i in range(5)]\n",
    "        for i in range(5):\n",
    "            if vert_hor_order[i] == 0:\n",
    "                self.horizontal(ship_order[i])\n",
    "            else:\n",
    "                self.vertical(ship_order[i])\n",
    "        return self.board\n",
    "\n",
    "    def game_logic(self, pick):\n",
    "        if self.board[pick] == 1:\n",
    "            self.board[pick] = 2"
   ]
  },
  {
   "cell_type": "code",
   "execution_count": 18,
   "id": "d83ef34a-04dd-4f12-80aa-02c3a2755f08",
   "metadata": {
    "tags": []
   },
   "outputs": [],
   "source": [
    "#Project ease of use tools\n",
    "def easyview():\n",
    "    viewer = sy.Matrix([BattleshipGame().board.take(np.arange(i, i + int(np.sqrt(len(BattleshipGame().board))))).tolist() for i in range(0, int(len(BattleshipGame().board)), int(np.sqrt(len(BattleshipGame().board))))])\n",
    "    return viewer"
   ]
  },
  {
   "cell_type": "code",
   "execution_count": 19,
   "id": "17f0141a-ca8c-44ce-94ef-4e519caaf356",
   "metadata": {
    "tags": []
   },
   "outputs": [],
   "source": [
    "#Ships Fairness Testing\n",
    "shipsTestingHorizontal = [[],[],[],[],[]]\n",
    "for i in range(5):\n",
    "    board = np.repeat(0,100)\n",
    "    shiptest = BattleshipGame().ships[i]\n",
    "    for j in range(10000):\n",
    "        board = np.repeat(0,100)\n",
    "        pick = BattleshipGame().horizontal(shiptest)[1]\n",
    "        shipsTestingHorizontal[i] = np.append(shipsTestingHorizontal[i], pick)\n",
    "\n",
    "shipsTestingVertical = [[],[],[],[],[]]\n",
    "for i in range(5):\n",
    "    board = np.repeat(0,100)\n",
    "    shiptest = BattleshipGame().ships[i]\n",
    "    for j in range(10000):\n",
    "        board = np.repeat(0,100)\n",
    "        pick = BattleshipGame().vertical(shiptest)[1]\n",
    "        shipsTestingVertical[i] = np.append(shipsTestingVertical[i], pick)"
   ]
  },
  {
   "cell_type": "code",
   "execution_count": 29,
   "id": "e633983a-adb5-4b67-8880-f2b770b225fe",
   "metadata": {
    "tags": []
   },
   "outputs": [],
   "source": [
    "#Distribution Tester\n",
    "distribution = np.repeat(0,100)\n",
    "board = np.repeat(0,100)\n",
    "for i in range(10000):\n",
    "    BattleshipGame().build_board()\n",
    "    for i in range(100):\n",
    "        if BattleshipGame().build_board()[i] == 1:\n",
    "            distribution[i] += 1\n",
    "    board = np.repeat(0,100)"
   ]
  },
  {
   "cell_type": "code",
   "execution_count": 42,
   "id": "ec799b59-e9ea-4e4d-9225-b630cef655be",
   "metadata": {
    "tags": []
   },
   "outputs": [],
   "source": [
    "CallIndex = Table().with_columns(\n",
    "    'Index', np.arange(100), \n",
    "    'Num Times Called', distribution)"
   ]
  },
  {
   "cell_type": "code",
   "execution_count": 31,
   "id": "f04691e0-6728-490a-8291-1ea93866ca53",
   "metadata": {
    "tags": []
   },
   "outputs": [
    {
     "data": {
      "image/png": "[encoded data removed]",
      "text/plain": [
       "<Figure size 640x480 with 2 Axes>"
      ]
     },
     "metadata": {},
     "output_type": "display_data"
    }
   ],
   "source": [
    "#Heatmap of placements\n",
    "X, Y = np.meshgrid(np.arange(0, 10, 1), np.arange(0, 10, 1))\n",
    "distribution_New = distribution / 10000\n",
    "distribution_2D = distribution_New.reshape(X.shape)\n",
    "plt.pcolormesh(X, Y, distribution_2D, cmap=plt.cm.jet)\n",
    "plt.xticks(np.arange(0, 10), np.arange(1, 11))\n",
    "plt.yticks(np.arange(0, 10), [chr(ord('a') + i) for i in range(9, -1, -1)])  \n",
    "plt.colorbar()\n",
    "plt.title('Ship Placement')\n",
    "plt.xlabel('X')\n",
    "plt.ylabel('Y')\n",
    "plt.show()"
   ]
  },
  {
   "cell_type": "code",
   "execution_count": 1,
   "id": "861218f3",
   "metadata": {},
   "outputs": [
    {
     "ename": "NameError",
     "evalue": "name 'plt' is not defined",
     "output_type": "error",
     "traceback": [
      "\u001b[1;31m---------------------------------------------------------------------------\u001b[0m",
      "\u001b[1;31mNameError\u001b[0m                                 Traceback (most recent call last)",
      "Cell \u001b[1;32mIn[1], line 1\u001b[0m\n\u001b[1;32m----> 1\u001b[0m \u001b[43mplt\u001b[49m\u001b[38;5;241m.\u001b[39mhist(CallIndex\u001b[38;5;241m.\u001b[39mcolumn(\u001b[38;5;124m'\u001b[39m\u001b[38;5;124mIndex\u001b[39m\u001b[38;5;124m'\u001b[39m), weights\u001b[38;5;241m=\u001b[39mCallIndex\u001b[38;5;241m.\u001b[39mcolumn(\u001b[38;5;124m'\u001b[39m\u001b[38;5;124mNum Times Called\u001b[39m\u001b[38;5;124m'\u001b[39m), bins\u001b[38;5;241m=\u001b[39m\u001b[38;5;241m100\u001b[39m, density\u001b[38;5;241m=\u001b[39m\u001b[38;5;28;01mTrue\u001b[39;00m, alpha\u001b[38;5;241m=\u001b[39m\u001b[38;5;241m0.7\u001b[39m, color\u001b[38;5;241m=\u001b[39m\u001b[38;5;124m'\u001b[39m\u001b[38;5;124mblue\u001b[39m\u001b[38;5;124m'\u001b[39m, label\u001b[38;5;241m=\u001b[39m\u001b[38;5;124m'\u001b[39m\u001b[38;5;124mHistogram\u001b[39m\u001b[38;5;124m'\u001b[39m)\n\u001b[0;32m      3\u001b[0m plt\u001b[38;5;241m.\u001b[39mxlabel(\u001b[38;5;124m'\u001b[39m\u001b[38;5;124mIndex\u001b[39m\u001b[38;5;124m'\u001b[39m)\n\u001b[0;32m      4\u001b[0m plt\u001b[38;5;241m.\u001b[39mylabel(\u001b[38;5;124m'\u001b[39m\u001b[38;5;124mNum Times Called\u001b[39m\u001b[38;5;124m'\u001b[39m)\n",
      "\u001b[1;31mNameError\u001b[0m: name 'plt' is not defined"
     ]
    }
   ],
   "source": [
    "plt.hist(CallIndex.column('Index'), weights=CallIndex.column('Num Times Called'), bins=100, density=True, alpha=0.7, color='blue', label='Histogram')\n",
    "\n",
    "plt.xlabel('Index')\n",
    "plt.ylabel('Num Times Called')\n",
    "plt.title('Histogram of Index vs Num Times Called')\n",
    "\n",
    "mu, sigma = np.mean(CallIndex.column('Index')), np.std(CallIndex.column('Index'))\n",
    "xmin, xmax = plt.xlim()\n",
    "x = np.linspace(xmin, xmax, 100)\n",
    "p = norm.pdf(x, mu, sigma)\n",
    "\n",
    "plt.plot(x, p, 'k', linewidth=2, label='Normal Distribution')\n",
    "\n",
    "plt.legend()\n",
    "\n",
    "plt.show()"
   ]
  }
 ],
 "metadata": {
  "kernelspec": {
   "display_name": "Python 3 (ipykernel)",
   "language": "python",
   "name": "python3"
  },
  "language_info": {
   "codemirror_mode": {
    "name": "ipython",
    "version": 3
   },
   "file_extension": ".py",
   "mimetype": "text/x-python",
   "name": "python",
   "nbconvert_exporter": "python",
   "pygments_lexer": "ipython3",
   "version": "3.10.9"
  },
  "toc-showmarkdowntxt": false
 },
 "nbformat": 4,
 "nbformat_minor": 5
}
